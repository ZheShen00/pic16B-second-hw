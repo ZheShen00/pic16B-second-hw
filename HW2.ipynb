{
 "cells": [
  {
   "cell_type": "markdown",
   "id": "351e5ebe",
   "metadata": {},
   "source": [
    "---\n",
    "title: \"PIC16B HW2:Web Scraping and visulization\"\n",
    "author: \"Zhe Shen\"\n",
    "date: \"2023-2-7\"\n",
    "categories: [PIC16B HW]\n",
    "\n",
    "---"
   ]
  },
  {
   "cell_type": "markdown",
   "id": "0dcca5f5",
   "metadata": {},
   "source": [
    "# PIC16B HW2:Web Scraping and visulization"
   ]
  },
  {
   "cell_type": "markdown",
   "id": "90003ca2",
   "metadata": {},
   "source": [
    "# Introduce\n",
    "In this blog, we will introduce the procedure of using **scrapy** for web scraping. Before that, we will briefly introduce the use of **fake user agent** to access web pages. This is because many webmasters believe that malicious web scraping can compromise the security of a web page's commercial information. However, we can use a **fake user agent** to circumvent the webmaster's access blocking. After we get the information that we need from the [TMDB](https://www.themoviedb.org/), we will use some simple **visualizations** to explore the question: \n",
    "\n",
    "`Which movies or TV shows have co-stars with your favorite movies or shows? `\n",
    "\n",
    "You can access the git repository for this project via [this link](https://github.com/ZheShen00/pic16B-second-hw)."
   ]
  },
  {
   "cell_type": "markdown",
   "id": "173f865d",
   "metadata": {},
   "source": [
    "# 1.   Installation of scrapy framework and general setting\n",
    "\n",
    "* You can complete the installation of scrapy by entering the following command in the terminal：\n",
    "```pip install Scrapy```\n",
    "* Create a new GitHub repository, and sync it with GitHub Desktop. Don't forget commit and push when you change your code.\n",
    "* Then you can create create folder by enter the commands below in terminal:\n",
    "```\n",
    "conda activate PIC16B\n",
    "scrapy startproject TMDB_scraper\n",
    "cd TMDB_scraper\n",
    "```\n",
    "* Now we can start the programing of the scraping work. Once the programming is complete, we will name the code file as **tmdb_spider.py** and place it in the **spiders** folder."
   ]
  },
  {
   "cell_type": "markdown",
   "id": "87b6a1ef",
   "metadata": {},
   "source": [
    "# 2. Web Scraping Programing\n",
    "\n",
    "## Part 1: Fake User Agent Setting\n",
    "\n",
    "As I said before, many web pages disable access to web scraping for information security reasons, which can cause us to get a **403 error** and return an empty cvs file. To deal with this, I used the free services of the [ScrapeOps](https://scrapeops.io/) and the code reference to complete the setup of the fake user agent. The code is highly referenced from [this page](https://scrapeops.io/docs/fake-user-agent-headers-api/integrations/python-requests/)."
   ]
  },
  {
   "cell_type": "code",
   "execution_count": 2,
   "id": "8492362a",
   "metadata": {},
   "outputs": [],
   "source": [
    "import scrapy\n",
    "\n",
    "\n",
    "import requests \n",
    "from random import randint\n",
    "\n",
    "# I tried to get result.csv, I always got a empty csv file. \n",
    "# I do some search online and found it is a 403 Forbidden Error.\n",
    "# The solution is need to requests fake user agent API, so I refer to the code of this website:\n",
    "# https://scrapeops.io/docs/fake-user-agent-headers-api/integrations/python-requests/\n",
    "\n",
    "def get_user_agent_list():\n",
    "    API_KEY = '73c17bd8-df5e-4c16-9731-e27653449214' #Everyone has different API, so get your own on ScrapeOps\n",
    "    response = requests.get('http://headers.scrapeops.io/v1/user-agents?api_key=' + API_KEY)\n",
    "    json_response = response.json()\n",
    "    return json_response.get('result', [])\n",
    "\n",
    "def get_random_user_agent(user_agent_list):\n",
    "    random_index = randint(0, len(user_agent_list) - 1)\n",
    "    return user_agent_list[random_index]\n",
    "\n",
    "# Retrieve User-Agent List From ScrapeOps\n",
    "user_agent_list = get_user_agent_list()\n",
    "\n",
    "## Add Random User-Agent To Headers\n",
    "headers = {'User-Agent': get_random_user_agent(user_agent_list)}"
   ]
  },
  {
   "cell_type": "markdown",
   "id": "60c38e9d",
   "metadata": {},
   "source": [
    "The code works by configuring **scraper** so that it retrieves a batch of up-to-date user agents at startup, and then uses a random user agent for each request. This way we can avoid **403 errors**."
   ]
  },
  {
   "cell_type": "markdown",
   "id": "45b0793d",
   "metadata": {},
   "source": [
    "## Part 2: Start Scraping part\n",
    "In this section, we will define a Class named **TmdbSpider**, which will be the main part of our web scraping.\n",
    "* **name** is the spider's name.\n",
    "* **start_urls** is the url of the web page we want access first."
   ]
  },
  {
   "cell_type": "code",
   "execution_count": null,
   "id": "f9f6d577",
   "metadata": {},
   "outputs": [],
   "source": [
    "class TmdbSpider(scrapy.Spider):\n",
    "    \n",
    "    #define spider name\n",
    "    name = 'tmdb_spider' \n",
    "    \n",
    "    #the url that we would use scrapy on it.\n",
    "    start_urls = ['https://www.themoviedb.org/movie/207703-kingsman-the-secret-service']\n"
   ]
  },
  {
   "cell_type": "markdown",
   "id": "4620dc7a",
   "metadata": {},
   "source": [
    " In addition I create access to the web page through the new function **requests**. This function will start our request and add url and headers to object: **scrapy.Request**."
   ]
  },
  {
   "cell_type": "code",
   "execution_count": 3,
   "id": "0fcdb56e",
   "metadata": {},
   "outputs": [],
   "source": [
    "    def requests(self):\n",
    "        '''\n",
    "            Goals:\n",
    "            1, Start our request\n",
    "            2, Input the start url and add headers to object: scrapy.Request.\n",
    "            3, Navigate to the page of the movie we want.\n",
    "        '''\n",
    "        for url in self.start_urls:\n",
    "            yield scrapy.Request(url=url, headers=headers)"
   ]
  },
  {
   "cell_type": "markdown",
   "id": "23d31dc8",
   "metadata": {},
   "source": [
    "After completing the function definition in the previous step, we will be able to make a request via **requests**. Then we can start web scraping for the information we want to get. Here I will first try to get the list of all Crews and Cast. So we need to navigate to the **Full Crew & Cast** page. So I have defined function named **parse** below to accomplish these goals."
   ]
  },
  {
   "cell_type": "code",
   "execution_count": 4,
   "id": "e5690546",
   "metadata": {},
   "outputs": [],
   "source": [
    "    def parse(self, response):\n",
    "        '''\n",
    "            Goals:\n",
    "            1, Parse movie's page. \n",
    "            2, Find the full cast & crew link.\n",
    "            3, Navigate to the full cast & crew page.\n",
    "        '''\n",
    "        \n",
    "        # Find the Full Cast & Crew link and navigate that page.\n",
    "        cast_page_link = response.css(\"p.new_button a::attr(href)\").get()\n",
    "        yield scrapy.Request(url = \"https://www.themoviedb.org\" + cast_page_link,\n",
    "                            headers=headers,\n",
    "                            callback=self.parse_full_credits)"
   ]
  },
  {
   "cell_type": "markdown",
   "id": "27f49969",
   "metadata": {},
   "source": [
    "**parse** works by finding the link suffix to the **full cast & crew** page and adding it to https://www.themoviedb.org to get the full link to the full cast & crew page. The location of the full cast & crew link can be found by right clicking on web page and choose inspect. Then we use **scrapy.Request** for scraping **full cast & crew**. It is worth mentioning that we have also added a parameter **callback** here to call the function named **parse_full_credits**. This will allow us to do further web scraping based on the information from the **full cast & crew** page."
   ]
  },
  {
   "cell_type": "code",
   "execution_count": null,
   "id": "e239369d",
   "metadata": {},
   "outputs": [],
   "source": [
    "    def parse_full_credits(self, response):\n",
    "        '''\n",
    "            Goals:\n",
    "            1, Parse the full cast & crew page.\n",
    "            2, Find all actors' links.\n",
    "            3, Navigate to the actors' pages respectively.\n",
    "        '''\n",
    "\n",
    "        # Find the link of all the actors.\n",
    "        actors_links = response.css(\"ol[class='people credits '] p[class!='character'] a::attr(href)\").getall()\n",
    "        for actor_link in actors_links:  \n",
    "            yield scrapy.Request(url = \"https://www.themoviedb.org\" + actor_link,\n",
    "                                headers=headers,\n",
    "                                callback=self.parse_actor_page)"
   ]
  },
  {
   "cell_type": "markdown",
   "id": "139a6857",
   "metadata": {},
   "source": [
    "About how **parse_full_credits** works, we first find the links to each actor's home page by **ol[class='people credits ']** and **p[class!='character']**. **a::attr(href)** will fetch the links and **.getall()** will scrape them. After all of the above, we again use the **callback** to help us with further web scraping. The next task will be done by **parse_actor_page**."
   ]
  },
  {
   "cell_type": "code",
   "execution_count": 5,
   "id": "935e04d9",
   "metadata": {},
   "outputs": [],
   "source": [
    "def parse_actor_page(self, response):\n",
    "        '''\n",
    "            Goals:\n",
    "            1, Parse each actor page.\n",
    "            2, Collete the actor name, and all movies' name which he/she has acted in.\n",
    "            3, Output dictionaries containing the actor name and the movie name.\n",
    "        '''\n",
    "\n",
    "        # Collete actor name\n",
    "        name = response.css(\"h2.title a::text\").get()\n",
    "        \n",
    "        # Collete all movies' name which he/she has acted in.\n",
    "        movies = response.css(\"table.credit_group a.tooltip bdi::text\").getall()\n",
    "        \n",
    "        # Finalizes the work of parsing\n",
    "        for movie in movies:\n",
    "            yield{\"actor name\":name,\n",
    "                  \"movie name\":movie}"
   ]
  },
  {
   "cell_type": "markdown",
   "id": "c724bddb",
   "metadata": {},
   "source": [
    "**parse_actor_page** The main purpose is to get all the movies that all actors have been in. **h2.title a::text** will allow us to scrape the names of the actors. **table.credit_group a.tooltip bdi::text** will provide us with the names of all the movies the actor has been in. These can be obtained through the browser's check page. Finally we will build the dictionary based on the information obtained. Entering **scrapy crawl tmdb_spider -o result.csv** in the terminal will output the csv file."
   ]
  },
  {
   "cell_type": "markdown",
   "id": "52b78278",
   "metadata": {},
   "source": [
    "# 3. visualizations\n",
    "\n",
    "After we receive **result.cvs**, we can do some data analysis and visualization.Let's check the **result.csv** first."
   ]
  },
  {
   "cell_type": "code",
   "execution_count": 36,
   "id": "540a0aaf",
   "metadata": {},
   "outputs": [
    {
     "data": {
      "text/html": [
       "<div>\n",
       "<style scoped>\n",
       "    .dataframe tbody tr th:only-of-type {\n",
       "        vertical-align: middle;\n",
       "    }\n",
       "\n",
       "    .dataframe tbody tr th {\n",
       "        vertical-align: top;\n",
       "    }\n",
       "\n",
       "    .dataframe thead th {\n",
       "        text-align: right;\n",
       "    }\n",
       "</style>\n",
       "<table border=\"1\" class=\"dataframe\">\n",
       "  <thead>\n",
       "    <tr style=\"text-align: right;\">\n",
       "      <th></th>\n",
       "      <th>actor name</th>\n",
       "      <th>movie name</th>\n",
       "    </tr>\n",
       "  </thead>\n",
       "  <tbody>\n",
       "    <tr>\n",
       "      <th>0</th>\n",
       "      <td>Anne Wittman</td>\n",
       "      <td>Shapes</td>\n",
       "    </tr>\n",
       "    <tr>\n",
       "      <th>1</th>\n",
       "      <td>Anne Wittman</td>\n",
       "      <td>People in Landscape</td>\n",
       "    </tr>\n",
       "    <tr>\n",
       "      <th>2</th>\n",
       "      <td>Anne Wittman</td>\n",
       "      <td>The Mystery of D.B. Cooper</td>\n",
       "    </tr>\n",
       "    <tr>\n",
       "      <th>3</th>\n",
       "      <td>Anne Wittman</td>\n",
       "      <td>Avenue 5</td>\n",
       "    </tr>\n",
       "    <tr>\n",
       "      <th>4</th>\n",
       "      <td>Anne Wittman</td>\n",
       "      <td>Jesus Shows You the Way to the Highway</td>\n",
       "    </tr>\n",
       "    <tr>\n",
       "      <th>5</th>\n",
       "      <td>Anne Wittman</td>\n",
       "      <td>K-12</td>\n",
       "    </tr>\n",
       "    <tr>\n",
       "      <th>6</th>\n",
       "      <td>Anne Wittman</td>\n",
       "      <td>Fantastic Beasts and Where to Find Them</td>\n",
       "    </tr>\n",
       "    <tr>\n",
       "      <th>7</th>\n",
       "      <td>Anne Wittman</td>\n",
       "      <td>Jamie</td>\n",
       "    </tr>\n",
       "    <tr>\n",
       "      <th>8</th>\n",
       "      <td>Anne Wittman</td>\n",
       "      <td>Kingsman: The Secret Service</td>\n",
       "    </tr>\n",
       "    <tr>\n",
       "      <th>9</th>\n",
       "      <td>Anne Wittman</td>\n",
       "      <td>Pigeon</td>\n",
       "    </tr>\n",
       "    <tr>\n",
       "      <th>10</th>\n",
       "      <td>Anne Wittman</td>\n",
       "      <td>The Ghost Writer</td>\n",
       "    </tr>\n",
       "    <tr>\n",
       "      <th>11</th>\n",
       "      <td>Anne Wittman</td>\n",
       "      <td>Medium Rare</td>\n",
       "    </tr>\n",
       "    <tr>\n",
       "      <th>12</th>\n",
       "      <td>Anne Wittman</td>\n",
       "      <td>Proof</td>\n",
       "    </tr>\n",
       "    <tr>\n",
       "      <th>13</th>\n",
       "      <td>Andrew Bridgmont</td>\n",
       "      <td>The King's Man</td>\n",
       "    </tr>\n",
       "    <tr>\n",
       "      <th>14</th>\n",
       "      <td>Andrew Bridgmont</td>\n",
       "      <td>The Larkins</td>\n",
       "    </tr>\n",
       "    <tr>\n",
       "      <th>15</th>\n",
       "      <td>Andrew Bridgmont</td>\n",
       "      <td>Alan</td>\n",
       "    </tr>\n",
       "    <tr>\n",
       "      <th>16</th>\n",
       "      <td>Andrew Bridgmont</td>\n",
       "      <td>Howards End</td>\n",
       "    </tr>\n",
       "    <tr>\n",
       "      <th>17</th>\n",
       "      <td>Andrew Bridgmont</td>\n",
       "      <td>Diagnosis</td>\n",
       "    </tr>\n",
       "    <tr>\n",
       "      <th>18</th>\n",
       "      <td>Andrew Bridgmont</td>\n",
       "      <td>Kingsman: The Secret Service</td>\n",
       "    </tr>\n",
       "    <tr>\n",
       "      <th>19</th>\n",
       "      <td>Andrew Bridgmont</td>\n",
       "      <td>The Theory of Everything</td>\n",
       "    </tr>\n",
       "    <tr>\n",
       "      <th>20</th>\n",
       "      <td>Andrew Bridgmont</td>\n",
       "      <td>1001 Inventions and the Library of Secrets</td>\n",
       "    </tr>\n",
       "  </tbody>\n",
       "</table>\n",
       "</div>"
      ],
      "text/plain": [
       "          actor name                                  movie name\n",
       "0       Anne Wittman                                      Shapes\n",
       "1       Anne Wittman                         People in Landscape\n",
       "2       Anne Wittman                  The Mystery of D.B. Cooper\n",
       "3       Anne Wittman                                    Avenue 5\n",
       "4       Anne Wittman      Jesus Shows You the Way to the Highway\n",
       "5       Anne Wittman                                        K-12\n",
       "6       Anne Wittman     Fantastic Beasts and Where to Find Them\n",
       "7       Anne Wittman                                       Jamie\n",
       "8       Anne Wittman                Kingsman: The Secret Service\n",
       "9       Anne Wittman                                      Pigeon\n",
       "10      Anne Wittman                            The Ghost Writer\n",
       "11      Anne Wittman                                 Medium Rare\n",
       "12      Anne Wittman                                       Proof\n",
       "13  Andrew Bridgmont                              The King's Man\n",
       "14  Andrew Bridgmont                                 The Larkins\n",
       "15  Andrew Bridgmont                                        Alan\n",
       "16  Andrew Bridgmont                                 Howards End\n",
       "17  Andrew Bridgmont                                   Diagnosis\n",
       "18  Andrew Bridgmont                Kingsman: The Secret Service\n",
       "19  Andrew Bridgmont                    The Theory of Everything\n",
       "20  Andrew Bridgmont  1001 Inventions and the Library of Secrets"
      ]
     },
     "execution_count": 36,
     "metadata": {},
     "output_type": "execute_result"
    }
   ],
   "source": [
    "import pandas as pd\n",
    "\n",
    "# Check results.csv\n",
    "data = pd.read_csv('results.csv')\n",
    "data.head(21)"
   ]
  },
  {
   "cell_type": "markdown",
   "id": "26d7c0be",
   "metadata": {},
   "source": [
    "It looks great! That shows our work above are success.Now we need answer the question: `What movie or TV shows share actors with your favorite movie or show?`\n",
    "\n",
    "For that, we will use **bar plot** to visualize the situation. It is worth noting that it is important to exclude movies that we perform web scraping in this process."
   ]
  },
  {
   "cell_type": "code",
   "execution_count": 44,
   "id": "90311365",
   "metadata": {},
   "outputs": [
    {
     "data": {
      "text/html": [
       "<div>\n",
       "<style scoped>\n",
       "    .dataframe tbody tr th:only-of-type {\n",
       "        vertical-align: middle;\n",
       "    }\n",
       "\n",
       "    .dataframe tbody tr th {\n",
       "        vertical-align: top;\n",
       "    }\n",
       "\n",
       "    .dataframe thead th {\n",
       "        text-align: right;\n",
       "    }\n",
       "</style>\n",
       "<table border=\"1\" class=\"dataframe\">\n",
       "  <thead>\n",
       "    <tr style=\"text-align: right;\">\n",
       "      <th></th>\n",
       "      <th>movie name</th>\n",
       "      <th>number of share actors</th>\n",
       "    </tr>\n",
       "  </thead>\n",
       "  <tbody>\n",
       "    <tr>\n",
       "      <th>0</th>\n",
       "      <td>Kingsman: The Secret Service</td>\n",
       "      <td>51</td>\n",
       "    </tr>\n",
       "    <tr>\n",
       "      <th>1</th>\n",
       "      <td>Kingsman: The Golden Circle</td>\n",
       "      <td>13</td>\n",
       "    </tr>\n",
       "    <tr>\n",
       "      <th>2</th>\n",
       "      <td>Kingsman: The Secret Service Revealed</td>\n",
       "      <td>11</td>\n",
       "    </tr>\n",
       "    <tr>\n",
       "      <th>3</th>\n",
       "      <td>Stardust</td>\n",
       "      <td>5</td>\n",
       "    </tr>\n",
       "    <tr>\n",
       "      <th>4</th>\n",
       "      <td>The Dark Crystal: Age of Resistance</td>\n",
       "      <td>4</td>\n",
       "    </tr>\n",
       "    <tr>\n",
       "      <th>5</th>\n",
       "      <td>Crossing Lines</td>\n",
       "      <td>4</td>\n",
       "    </tr>\n",
       "    <tr>\n",
       "      <th>6</th>\n",
       "      <td>The Graham Norton Show</td>\n",
       "      <td>4</td>\n",
       "    </tr>\n",
       "    <tr>\n",
       "      <th>7</th>\n",
       "      <td>Robin Hood</td>\n",
       "      <td>4</td>\n",
       "    </tr>\n",
       "    <tr>\n",
       "      <th>8</th>\n",
       "      <td>The Oscars</td>\n",
       "      <td>3</td>\n",
       "    </tr>\n",
       "    <tr>\n",
       "      <th>9</th>\n",
       "      <td>The Sandman</td>\n",
       "      <td>3</td>\n",
       "    </tr>\n",
       "    <tr>\n",
       "      <th>10</th>\n",
       "      <td>Afro Samurai: Resurrection</td>\n",
       "      <td>3</td>\n",
       "    </tr>\n",
       "  </tbody>\n",
       "</table>\n",
       "</div>"
      ],
      "text/plain": [
       "                               movie name  number of share actors\n",
       "0            Kingsman: The Secret Service                      51\n",
       "1             Kingsman: The Golden Circle                      13\n",
       "2   Kingsman: The Secret Service Revealed                      11\n",
       "3                                Stardust                       5\n",
       "4     The Dark Crystal: Age of Resistance                       4\n",
       "5                          Crossing Lines                       4\n",
       "6                  The Graham Norton Show                       4\n",
       "7                              Robin Hood                       4\n",
       "8                              The Oscars                       3\n",
       "9                             The Sandman                       3\n",
       "10             Afro Samurai: Resurrection                       3"
      ]
     },
     "execution_count": 44,
     "metadata": {},
     "output_type": "execute_result"
    }
   ],
   "source": [
    "# Count the number of share actors\n",
    "movie_count = pd.DataFrame(data['movie name'].value_counts())\n",
    "\n",
    "# Reset the index of the DataFrame, and use the default one instead\n",
    "movie_count = movie_count.reset_index()\n",
    "\n",
    "# Rename the colum title\n",
    "movie_count.columns = ['movie name','number of share actors']\n",
    "\n",
    "# Show the top 10 movies\n",
    "movie_count.head(11)"
   ]
  },
  {
   "cell_type": "markdown",
   "id": "ef95cdac",
   "metadata": {},
   "source": [
    "In this section, we read the CSV files and counted the number of shared actors. Without a doubt, **Kingsman: The Secret Service** is the number one ranked movie. This is because we did a web scrap based on the web page of this movie. Also, we can see that **Kingsman: The Golden Circle** and **Kingsman: The Secret Service Revealed** have the most shared actors. Since these 3 movies are part of the same series, it makes sense that they have a large number of shared actors. Next, I will visualize the top 10 movies using **bar plot**."
   ]
  },
  {
   "cell_type": "code",
   "execution_count": 73,
   "id": "817d60e9",
   "metadata": {},
   "outputs": [
    {
     "data": {
      "text/plain": [
       "<AxesSubplot:xlabel='number of share actors', ylabel='movie name'>"
      ]
     },
     "execution_count": 73,
     "metadata": {},
     "output_type": "execute_result"
    },
    {
     "data": {
      "image/png": "[encoded data removed]",
      "text/plain": [
       "<Figure size 720x576 with 1 Axes>"
      ]
     },
     "metadata": {
      "needs_background": "light"
     },
     "output_type": "display_data"
    }
   ],
   "source": [
    "import matplotlib.pyplot as plt\n",
    "import seaborn as sns\n",
    "\n",
    "movies = movie_count.head(11)\n",
    "plt.figure(figsize=(10, 8))\n",
    "sns.barplot(y='movie name', x='number of share actors', data=movies)"
   ]
  },
  {
   "cell_type": "markdown",
   "id": "56e602d3",
   "metadata": {},
   "source": [
    "As we can see, **Kingsman: The Secret Service**, **Kingsman: The Golden Circle** and **Kingsman: The Secret Service Revealed** are the movies with the most share actors. Except for these three movies, the number of share actors in other movies is relatively small. This is in line with our analysis above."
   ]
  }
 ],
 "metadata": {
  "kernelspec": {
   "display_name": "Python 3 (ipykernel)",
   "language": "python",
   "name": "python3"
  },
  "language_info": {
   "codemirror_mode": {
    "name": "ipython",
    "version": 3
   },
   "file_extension": ".py",
   "mimetype": "text/x-python",
   "name": "python",
   "nbconvert_exporter": "python",
   "pygments_lexer": "ipython3",
   "version": "3.8.8"
  }
 },
 "nbformat": 4,
 "nbformat_minor": 5
}
